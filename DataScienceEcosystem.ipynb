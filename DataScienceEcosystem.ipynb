{
 "cells": [
  {
   "cell_type": "markdown",
   "id": "3854649b",
   "metadata": {},
   "source": [
    "# Data Science Tools and Ecosystem\n"
   ]
  },
  {
   "cell_type": "markdown",
   "id": "37d6d2e5",
   "metadata": {},
   "source": [
    "### In this notebook, Data Science Tools and Ecosystem are summarized"
   ]
  },
  {
   "cell_type": "markdown",
   "id": "f4abfcef",
   "metadata": {},
   "source": [
    "##### **Objectives:**\n",
    "- List of popular languages for Data Science\n",
    "- Commonly used libraries\n",
    "- Data Science Tools\n",
    "- Code Examples"
   ]
  },
  {
   "cell_type": "markdown",
   "id": "370f5b9d",
   "metadata": {},
   "source": [
    "##### **Some of the popular languages that Data Scientists use are:**\n",
    "1. Python\n",
    "2. R language\n",
    "3. SQL\n",
    "4. Scala\n",
    "5. Java\n",
    "6. C++\n",
    "7. Julia"
   ]
  },
  {
   "cell_type": "markdown",
   "id": "18516783",
   "metadata": {},
   "source": [
    "##### **Some of the commonly used libraries used by Data Scientists include:**\n",
    "***Python Libraries***:\n",
    "1. ***Scientific computing***:\n",
    "    Pandas, \n",
    "    Numpy\n",
    "2. ***Visualization libraries***:\n",
    "    Matplotlib, \n",
    "    Seaborn\n",
    "3. ***ML and Deep Learning***:\n",
    "    Scikit-learn, \n",
    "    Keras\n",
    "4. ***DL Libraries***:\n",
    "    Tensorflow, \n",
    "    Pytorch\n",
    "\n",
    "***Scala Libraries***: \n",
    "1. Vegas\n",
    "2. Big DL\n",
    "\n",
    "***R Libraries***: \n",
    "1. ggplot2"
   ]
  },
  {
   "cell_type": "markdown",
   "id": "94e1cbd1",
   "metadata": {},
   "source": [
    "##### **Data Science Tools**\n",
    "\n",
    "| Tools |\n",
    "| -----------------|\n",
    "| Jupyter Notebook |\n",
    "| RStudio |\n",
    "| VS Code |"
   ]
  },
  {
   "cell_type": "markdown",
   "id": "bb1b73a0",
   "metadata": {},
   "source": [
    "### Below are a few examples of evaluating arithmetic expressions in Python"
   ]
  },
  {
   "cell_type": "code",
   "execution_count": 2,
   "id": "a64cefd3",
   "metadata": {},
   "outputs": [
    {
     "name": "stdout",
     "output_type": "stream",
     "text": [
      "17\n"
     ]
    }
   ],
   "source": [
    "# This a simple arithmetic expression to mutiply then add integers\n",
    "\n",
    "x = (3*4) + 5\n",
    "print(x)"
   ]
  },
  {
   "cell_type": "code",
   "execution_count": 3,
   "id": "5364cd02",
   "metadata": {},
   "outputs": [
    {
     "name": "stdout",
     "output_type": "stream",
     "text": [
      "200 minutes is equal to 3.3333333333333335 hours\n"
     ]
    }
   ],
   "source": [
    "# This will convert 200 minutes to hours by diving by 60\n",
    "minutes = 200\n",
    "hours = minutes / 60\n",
    "print(f\"{minutes} minutes is equal to {hours} hours\")"
   ]
  },
  {
   "cell_type": "markdown",
   "id": "35839497",
   "metadata": {},
   "source": [
    "## **Author**\n",
    "Carlos Bejos Alanis"
   ]
  }
 ],
 "metadata": {
  "kernelspec": {
   "display_name": "Python 3",
   "language": "python",
   "name": "python3"
  },
  "language_info": {
   "codemirror_mode": {
    "name": "ipython",
    "version": 3
   },
   "file_extension": ".py",
   "mimetype": "text/x-python",
   "name": "python",
   "nbconvert_exporter": "python",
   "pygments_lexer": "ipython3",
   "version": "3.13.2"
  }
 },
 "nbformat": 4,
 "nbformat_minor": 5
}
